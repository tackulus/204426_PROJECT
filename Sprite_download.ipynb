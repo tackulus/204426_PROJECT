{
  "nbformat": 4,
  "nbformat_minor": 0,
  "metadata": {
    "colab": {
      "name": "Sprite_download.ipynb",
      "provenance": [],
      "collapsed_sections": [],
      "authorship_tag": "ABX9TyMBklgTZAjTg6bI7cMLGv/n",
      "include_colab_link": true
    },
    "kernelspec": {
      "name": "python3",
      "display_name": "Python 3"
    },
    "language_info": {
      "name": "python"
    }
  },
  "cells": [
    {
      "cell_type": "markdown",
      "metadata": {
        "id": "view-in-github",
        "colab_type": "text"
      },
      "source": [
        "<a href=\"https://colab.research.google.com/github/tackulus/204426_PROJECT/blob/main/Sprite_download.ipynb\" target=\"_parent\"><img src=\"https://colab.research.google.com/assets/colab-badge.svg\" alt=\"Open In Colab\"/></a>"
      ]
    },
    {
      "cell_type": "code",
      "metadata": {
        "colab": {
          "base_uri": "https://localhost:8080/"
        },
        "id": "ja7lhxTR8VCG",
        "outputId": "75b21b0a-ddd3-4e18-e322-20bd579c02ad"
      },
      "source": [
        "!pip install pokebase"
      ],
      "execution_count": null,
      "outputs": [
        {
          "output_type": "stream",
          "name": "stdout",
          "text": [
            "Requirement already satisfied: pokebase in /usr/local/lib/python3.7/dist-packages (1.3.0)\n",
            "Requirement already satisfied: requests in /usr/local/lib/python3.7/dist-packages (from pokebase) (2.23.0)\n",
            "Requirement already satisfied: certifi>=2017.4.17 in /usr/local/lib/python3.7/dist-packages (from requests->pokebase) (2021.5.30)\n",
            "Requirement already satisfied: chardet<4,>=3.0.2 in /usr/local/lib/python3.7/dist-packages (from requests->pokebase) (3.0.4)\n",
            "Requirement already satisfied: idna<3,>=2.5 in /usr/local/lib/python3.7/dist-packages (from requests->pokebase) (2.10)\n",
            "Requirement already satisfied: urllib3!=1.25.0,!=1.25.1,<1.26,>=1.21.1 in /usr/local/lib/python3.7/dist-packages (from requests->pokebase) (1.24.3)\n"
          ]
        }
      ]
    },
    {
      "cell_type": "code",
      "metadata": {
        "id": "wsMOyNguvE1-"
      },
      "source": [
        "import io\n",
        "import numpy as np\n",
        "import pandas as pd\n",
        "import matplotlib.pyplot as plt\n",
        "import pokebase as pb\n",
        "from tqdm import tqdm"
      ],
      "execution_count": null,
      "outputs": []
    },
    {
      "cell_type": "code",
      "metadata": {
        "colab": {
          "base_uri": "https://localhost:8080/"
        },
        "id": "o8YwKLVVvlxR",
        "outputId": "3dde46bd-3433-4260-81fb-149a5eaa9abc"
      },
      "source": [
        "sprite_rgba = []\n",
        "for i in tqdm(range(1,802)):\n",
        "    source = pb.SpriteResource('pokemon', i, official_artwork=True)\n",
        "    binary = source.img_data\n",
        "    img = plt.imread(io.BytesIO(binary))\n",
        "    img = np.asarray(img)\n",
        "    sprite_rgba.append(img)\n",
        "\n",
        "sprite_rgba = np.asarray(sprite_rgba)\n",
        "sprite_rgba.shape # pokedex n == index n-1"
      ],
      "execution_count": 48,
      "outputs": [
        {
          "output_type": "stream",
          "name": "stderr",
          "text": [
            "100%|██████████| 801/801 [00:00<00:00, 1686.91it/s]\n"
          ]
        },
        {
          "output_type": "execute_result",
          "data": {
            "text/plain": [
              "(801, 96, 96, 4)"
            ]
          },
          "metadata": {},
          "execution_count": 48
        }
      ]
    },
    {
      "cell_type": "code",
      "metadata": {
        "colab": {
          "base_uri": "https://localhost:8080/"
        },
        "id": "1W-ng28V84I8",
        "outputId": "c6563116-9ed0-4977-8dde-4308c678c2a8"
      },
      "source": [
        "from skimage.color import rgba2rgb\n",
        "\n",
        "sprite_rgb = [rgba2rgb(img_rgba) for img_rgba in tqdm(sprite_rgba)]\n",
        "sprite_rgb = np.asarray(sprite_rgb)\n",
        "sprite_rgb.shape # pokedex n == index n-1"
      ],
      "execution_count": 49,
      "outputs": [
        {
          "output_type": "stream",
          "name": "stderr",
          "text": [
            "100%|██████████| 801/801 [00:00<00:00, 4095.43it/s]\n"
          ]
        },
        {
          "output_type": "execute_result",
          "data": {
            "text/plain": [
              "(801, 96, 96, 3)"
            ]
          },
          "metadata": {},
          "execution_count": 49
        }
      ]
    },
    {
      "cell_type": "markdown",
      "metadata": {
        "id": "EeEilFpyZrHa"
      },
      "source": [
        "# Feature Extraction by Histogram of Orientation Gradient (HOG)\n",
        "> https://www.analyticsvidhya.com/blog/2019/09/feature-engineering-images-introduction-hog-feature-descriptor/"
      ]
    },
    {
      "cell_type": "code",
      "metadata": {
        "id": "oE7ydFa2KuWx",
        "colab": {
          "base_uri": "https://localhost:8080/"
        },
        "outputId": "b391a979-8721-446c-f33e-4c0aa899b69d"
      },
      "source": [
        "from skimage.feature import hog\n",
        "\n",
        "def feature_extraction_hog(img):\n",
        "    fd, hog_image = hog(img, orientations=9, pixels_per_cell=(6,6), \n",
        "                    cells_per_block=(2, 2), visualize=True, multichannel=True)\n",
        "    return fd, hog_image\n",
        "\n",
        "sprite_hog = []\n",
        "sprite_hog_img = []\n",
        "for img_rgb in tqdm(sprite_rgb):\n",
        "    fd, hog_image = feature_extraction_hog(img_rgb)\n",
        "    sprite_hog.append(fd)\n",
        "    sprite_hog_img.append(hog_image)\n",
        "\n",
        "sprite_hog = np.asarray(sprite_hog)\n",
        "sprite_hog_img = np.asarray(sprite_hog_img)\n",
        "sprite_hog.shape, sprite_hog_img.shape # pokedex n == index n-1"
      ],
      "execution_count": 88,
      "outputs": [
        {
          "output_type": "stream",
          "name": "stderr",
          "text": [
            "100%|██████████| 801/801 [00:41<00:00, 19.15it/s]\n"
          ]
        },
        {
          "output_type": "execute_result",
          "data": {
            "text/plain": [
              "((801, 8100), (801, 96, 96))"
            ]
          },
          "metadata": {},
          "execution_count": 88
        }
      ]
    },
    {
      "cell_type": "code",
      "metadata": {
        "colab": {
          "base_uri": "https://localhost:8080/",
          "height": 470
        },
        "id": "80Kx3VHdnCOt",
        "outputId": "5b3a7469-8e54-434f-d2d9-de9a27e8a51e"
      },
      "source": [
        "from skimage import exposure\n",
        "\n",
        "pokedex = 658\n",
        "img, hog_img = sprite_rgb[pokedex-1], sprite_hog_img[pokedex-1]\n",
        "\n",
        "fig, (ax1, ax2) = plt.subplots(1, 2, figsize=(16, 8), sharex=True, sharey=True) \n",
        "\n",
        "ax1.imshow(img, cmap=plt.cm.gray) \n",
        "ax1.set_title('Input image') \n",
        "\n",
        "# Rescale histogram for better display \n",
        "hog_image_rescaled = exposure.rescale_intensity(hog_img, in_range=(0, 10)) \n",
        "\n",
        "ax2.imshow(hog_img, cmap=plt.cm.gray) \n",
        "ax2.set_title('Histogram of Oriented Gradients')\n",
        "\n",
        "plt.show()"
      ],
      "execution_count": 149,
      "outputs": [
        {
          "output_type": "display_data",
          "data": {
            "image/png": "[encoded data removed]",
            "text/plain": [
              "<Figure size 1152x576 with 2 Axes>"
            ]
          },
          "metadata": {
            "needs_background": "light"
          }
        }
      ]
    },
    {
      "cell_type": "code",
      "metadata": {
        "id": "3Sz_tsxRqXap"
      },
      "source": [
        "import pandas as pd\n",
        "\n",
        "df = pd.DataFrame(sprite_hog)\n",
        "df.to_csv('sprite_hog.csv', index=False)"
      ],
      "execution_count": null,
      "outputs": []
    },
    {
      "cell_type": "markdown",
      "metadata": {
        "id": "F9v9sf7haAS4"
      },
      "source": [
        "# Feature Extraction by Color Histogram\n",
        "> https://www.etutorialspoint.com/index.php/310-python-opencv-histograms-of-color-image"
      ]
    },
    {
      "cell_type": "code",
      "metadata": {
        "colab": {
          "base_uri": "https://localhost:8080/"
        },
        "id": "GgYpvkr6EH8R",
        "outputId": "ce9bf85a-2ddc-4ceb-9f82-86128e8ec380"
      },
      "source": [
        "import cv2 as cv\n",
        "\n",
        "def color_histogram(img_rgba, bins=32):\n",
        "    img = (img_rgba * 255).astype('uint8')\n",
        "    mask = img[...,3]\n",
        "    hist1 = cv.calcHist([img],[0],mask,[bins],[0,256])\n",
        "    hist2 = cv.calcHist([img],[1],mask,[bins],[0,256])\n",
        "    hist3 = cv.calcHist([img],[2],mask,[bins],[0,256])\n",
        "\n",
        "    return np.array([hist1, hist2, hist3] / hist1.sum())[...,0]\n",
        "    \n",
        "sprite_hist = [color_histogram(img_rgba) for img_rgba in tqdm(sprite_rgba)]\n",
        "sprite_hist = np.asarray(sprite_hist)\n",
        "\n",
        "n, ch, bins = sprite_hist.shape \n",
        "sprite_hist_flatten = sprite_hist.reshape((n, ch * bins))\n",
        "sprite_hist.shape, sprite_hist_flatten.shape # pokedex n == index n-1"
      ],
      "execution_count": 147,
      "outputs": [
        {
          "output_type": "stream",
          "name": "stderr",
          "text": [
            "100%|██████████| 801/801 [00:00<00:00, 8491.16it/s]\n"
          ]
        },
        {
          "output_type": "execute_result",
          "data": {
            "text/plain": [
              "((801, 3, 32), (801, 96))"
            ]
          },
          "metadata": {},
          "execution_count": 147
        }
      ]
    },
    {
      "cell_type": "code",
      "metadata": {
        "colab": {
          "base_uri": "https://localhost:8080/",
          "height": 567
        },
        "id": "XIwYfd4QquHn",
        "outputId": "22d38af7-0c7b-4883-bdce-adbbbd9c66f9"
      },
      "source": [
        "plt.figure(figsize=(16,9))\n",
        "\n",
        "R, G, B = sprite_hist[657]\n",
        "\n",
        "plt.subplot(121)\n",
        "plt.imshow(sprite_rgb[657])\n",
        "plt.title('Pokemon Sprite')\n",
        "\n",
        "\n",
        "bins = R.shape[0]\n",
        "plt.subplot(122)\n",
        "plt.bar(range(bins), R, color='r',\n",
        "        width=1, alpha=0.8)\n",
        "plt.bar(range(bins), G, color='g',\n",
        "        bottom=R,\n",
        "        width=1, alpha=0.8)\n",
        "plt.bar(range(bins), B, color='b',\n",
        "        bottom=R+G,\n",
        "        width=1, alpha=0.8)\n",
        "plt.title('Color Histogram')\n",
        "plt.legend(['R', 'G', 'B'])\n",
        "plt.xlabel('Bins')\n",
        "plt.ylabel('Density')\n",
        "plt.show()"
      ],
      "execution_count": 145,
      "outputs": [
        {
          "output_type": "display_data",
          "data": {
            "image/png": "[encoded data removed]",
            "text/plain": [
              "<Figure size 1152x648 with 2 Axes>"
            ]
          },
          "metadata": {
            "needs_background": "light"
          }
        }
      ]
    },
    {
      "cell_type": "code",
      "metadata": {
        "id": "9LjxQCO6a8Gy"
      },
      "source": [
        "import pandas as pd\n",
        "\n",
        "df = pd.DataFrame(sprite_hist_flatten)\n",
        "df.to_csv('sprite_hist_flatten.csv', index=False)"
      ],
      "execution_count": 148,
      "outputs": []
    }
  ]
}