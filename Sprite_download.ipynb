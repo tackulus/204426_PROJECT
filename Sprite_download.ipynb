{
  "nbformat": 4,
  "nbformat_minor": 0,
  "metadata": {
    "colab": {
      "name": "Sprite_download.ipynb",
      "provenance": [],
      "collapsed_sections": [],
      "authorship_tag": "ABX9TyPERYiocuzLKI/8a7pXgR03",
      "include_colab_link": true
    },
    "kernelspec": {
      "name": "python3",
      "display_name": "Python 3"
    },
    "language_info": {
      "name": "python"
    }
  },
  "cells": [
    {
      "cell_type": "markdown",
      "metadata": {
        "id": "view-in-github",
        "colab_type": "text"
      },
      "source": [
        "<a href=\"https://colab.research.google.com/github/tackulus/204426_PROJECT/blob/main/Sprite_download.ipynb\" target=\"_parent\"><img src=\"https://colab.research.google.com/assets/colab-badge.svg\" alt=\"Open In Colab\"/></a>"
      ]
    },
    {
      "cell_type": "code",
      "metadata": {
        "colab": {
          "base_uri": "https://localhost:8080/"
        },
        "id": "ja7lhxTR8VCG",
        "outputId": "014f1696-0aeb-4788-cd86-dca35ebfdf2a"
      },
      "source": [
        "!pip install pokebase"
      ],
      "execution_count": 16,
      "outputs": [
        {
          "output_type": "stream",
          "name": "stdout",
          "text": [
            "Requirement already satisfied: pokebase in /usr/local/lib/python3.7/dist-packages (1.3.0)\n",
            "Requirement already satisfied: requests in /usr/local/lib/python3.7/dist-packages (from pokebase) (2.23.0)\n",
            "Requirement already satisfied: chardet<4,>=3.0.2 in /usr/local/lib/python3.7/dist-packages (from requests->pokebase) (3.0.4)\n",
            "Requirement already satisfied: certifi>=2017.4.17 in /usr/local/lib/python3.7/dist-packages (from requests->pokebase) (2021.5.30)\n",
            "Requirement already satisfied: idna<3,>=2.5 in /usr/local/lib/python3.7/dist-packages (from requests->pokebase) (2.10)\n",
            "Requirement already satisfied: urllib3!=1.25.0,!=1.25.1,<1.26,>=1.21.1 in /usr/local/lib/python3.7/dist-packages (from requests->pokebase) (1.24.3)\n"
          ]
        }
      ]
    },
    {
      "cell_type": "code",
      "metadata": {
        "id": "wsMOyNguvE1-"
      },
      "source": [
        "import io\n",
        "import numpy as np\n",
        "import pandas as pd\n",
        "import matplotlib.pyplot as plt\n",
        "import pokebase as pb\n",
        "from tqdm import tqdm"
      ],
      "execution_count": 17,
      "outputs": []
    },
    {
      "cell_type": "code",
      "metadata": {
        "colab": {
          "base_uri": "https://localhost:8080/"
        },
        "id": "o8YwKLVVvlxR",
        "outputId": "055ef9d6-1d46-4963-bac5-ecabdfe64dfa"
      },
      "source": [
        "sprite_rgba = []\n",
        "for i in tqdm(range(1,899)):\n",
        "    source = pb.SpriteResource('pokemon', i, official_artwork=True)\n",
        "    binary = source.img_data\n",
        "    img = plt.imread(io.BytesIO(binary))\n",
        "    img = np.asarray(img)\n",
        "    sprite_rgba.append(img)\n",
        "\n",
        "sprite_rgba = np.asarray(sprite_rgba)\n",
        "sprite_rgba.shape # pokedex n == index n-1"
      ],
      "execution_count": 55,
      "outputs": [
        {
          "output_type": "stream",
          "name": "stderr",
          "text": [
            "100%|██████████| 898/898 [00:00<00:00, 1889.84it/s]\n"
          ]
        },
        {
          "output_type": "execute_result",
          "data": {
            "text/plain": [
              "(898, 96, 96, 4)"
            ]
          },
          "metadata": {},
          "execution_count": 55
        }
      ]
    },
    {
      "cell_type": "code",
      "metadata": {
        "colab": {
          "base_uri": "https://localhost:8080/"
        },
        "id": "1W-ng28V84I8",
        "outputId": "bfa6559b-ace2-45dd-99c2-fbaa4db78839"
      },
      "source": [
        "from skimage.color import rgba2rgb\n",
        "\n",
        "sprite_rgb = [rgba2rgb(img_rgba) for img_rgba in tqdm(sprite_rgba)]\n",
        "sprite_rgb = np.asarray(sprite_rgb)\n",
        "sprite_rgb.shape # pokedex n == index n-1"
      ],
      "execution_count": 67,
      "outputs": [
        {
          "output_type": "stream",
          "name": "stderr",
          "text": [
            "100%|██████████| 898/898 [00:00<00:00, 3860.09it/s]\n"
          ]
        },
        {
          "output_type": "execute_result",
          "data": {
            "text/plain": [
              "(898, 96, 96, 3)"
            ]
          },
          "metadata": {},
          "execution_count": 67
        }
      ]
    },
    {
      "cell_type": "code",
      "metadata": {
        "id": "oE7ydFa2KuWx",
        "colab": {
          "base_uri": "https://localhost:8080/"
        },
        "outputId": "76d8aae8-edd1-4efa-bb95-b93a3325586a"
      },
      "source": [
        "from skimage.feature import hog\n",
        "\n",
        "def feature_extraction_hog(img):\n",
        "    fd, hog_image = hog(img, orientations=9, pixels_per_cell=(8,8), \n",
        "                    cells_per_block=(2, 2), visualize=True, multichannel=True)\n",
        "    return fd\n",
        "\n",
        "sprite_hog = [feature_extraction_hog(img_rgb) for img_rgb in tqdm(sprite_rgb)]\n",
        "sprite_hog = np.asarray(sprite_hog)\n",
        "sprite_hog.shape # pokedex n == index n-1"
      ],
      "execution_count": 71,
      "outputs": [
        {
          "output_type": "stream",
          "name": "stderr",
          "text": [
            "100%|██████████| 898/898 [00:26<00:00, 33.73it/s]\n"
          ]
        },
        {
          "output_type": "execute_result",
          "data": {
            "text/plain": [
              "(898, 4356)"
            ]
          },
          "metadata": {},
          "execution_count": 71
        }
      ]
    },
    {
      "cell_type": "code",
      "metadata": {
        "colab": {
          "base_uri": "https://localhost:8080/",
          "height": 470
        },
        "id": "kTDXj4YYj_QQ",
        "outputId": "66b6b6ab-259d-4d47-944f-21fe74ccfaf0"
      },
      "source": [
        "from skimage import exposure\n",
        "\n",
        "fig, (ax1, ax2) = plt.subplots(1, 2, figsize=(16, 8), sharex=True, sharey=True) \n",
        "\n",
        "ax1.imshow(img, cmap=plt.cm.gray) \n",
        "ax1.set_title('Input image') \n",
        "\n",
        "# Rescale histogram for better display \n",
        "hog_image_rescaled = exposure.rescale_intensity(hog_image, in_range=(0, 10)) \n",
        "\n",
        "ax2.imshow(hog_image_rescaled, cmap=plt.cm.gray) \n",
        "ax2.set_title('Histogram of Oriented Gradients')\n",
        "\n",
        "plt.show()"
      ],
      "execution_count": 66,
      "outputs": [
        {
          "output_type": "display_data",
          "data": {
            "image/png": "[encoded data removed]",
            "text/plain": [
              "<Figure size 1152x576 with 2 Axes>"
            ]
          },
          "metadata": {
            "needs_background": "light"
          }
        }
      ]
    }
  ]
}