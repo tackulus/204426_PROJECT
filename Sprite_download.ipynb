{
  "nbformat": 4,
  "nbformat_minor": 0,
  "metadata": {
    "colab": {
      "name": "Sprite_download.ipynb",
      "provenance": [],
      "collapsed_sections": [],
      "authorship_tag": "ABX9TyNcnk6dkhMYKhKN4FjIPWHq",
      "include_colab_link": true
    },
    "kernelspec": {
      "name": "python3",
      "display_name": "Python 3"
    },
    "language_info": {
      "name": "python"
    }
  },
  "cells": [
    {
      "cell_type": "markdown",
      "metadata": {
        "id": "view-in-github",
        "colab_type": "text"
      },
      "source": [
        "<a href=\"https://colab.research.google.com/github/tackulus/204426_PROJECT/blob/main/Sprite_download.ipynb\" target=\"_parent\"><img src=\"https://colab.research.google.com/assets/colab-badge.svg\" alt=\"Open In Colab\"/></a>"
      ]
    },
    {
      "cell_type": "code",
      "metadata": {
        "colab": {
          "base_uri": "https://localhost:8080/"
        },
        "id": "ja7lhxTR8VCG",
        "outputId": "2d556f3a-4915-4b07-a857-40e007bbefec"
      },
      "source": [
        "!pip install pokebase"
      ],
      "execution_count": 2,
      "outputs": [
        {
          "output_type": "stream",
          "name": "stdout",
          "text": [
            "Collecting pokebase\n",
            "  Downloading pokebase-1.3.0-py3-none-any.whl (11 kB)\n",
            "Requirement already satisfied: requests in /usr/local/lib/python3.7/dist-packages (from pokebase) (2.23.0)\n",
            "Requirement already satisfied: urllib3!=1.25.0,!=1.25.1,<1.26,>=1.21.1 in /usr/local/lib/python3.7/dist-packages (from requests->pokebase) (1.24.3)\n",
            "Requirement already satisfied: idna<3,>=2.5 in /usr/local/lib/python3.7/dist-packages (from requests->pokebase) (2.10)\n",
            "Requirement already satisfied: certifi>=2017.4.17 in /usr/local/lib/python3.7/dist-packages (from requests->pokebase) (2021.5.30)\n",
            "Requirement already satisfied: chardet<4,>=3.0.2 in /usr/local/lib/python3.7/dist-packages (from requests->pokebase) (3.0.4)\n",
            "Installing collected packages: pokebase\n",
            "Successfully installed pokebase-1.3.0\n"
          ]
        }
      ]
    },
    {
      "cell_type": "code",
      "metadata": {
        "id": "wsMOyNguvE1-"
      },
      "source": [
        "import io\n",
        "import numpy as np\n",
        "import pandas as pd\n",
        "import matplotlib.pyplot as plt\n",
        "import pokebase as pb\n",
        "from tqdm import tqdm"
      ],
      "execution_count": 70,
      "outputs": []
    },
    {
      "cell_type": "code",
      "metadata": {
        "colab": {
          "base_uri": "https://localhost:8080/"
        },
        "id": "o8YwKLVVvlxR",
        "outputId": "09e54772-751f-41d3-bd03-f4471b425959"
      },
      "source": [
        "sprite_img = []\n",
        "for i in tqdm(range(1,899)):\n",
        "    source = pb.SpriteResource('pokemon', i, official_artwork=True)\n",
        "    binary = source.img_data\n",
        "    img = plt.imread(io.BytesIO(binary))\n",
        "    img = np.asarray(img)\n",
        "    sprite_img.append(img)\n",
        "\n",
        "sprite_img = np.asarray(sprite_img)\n",
        "sprite_img.shape # pokedex n == index n-1"
      ],
      "execution_count": 72,
      "outputs": [
        {
          "output_type": "stream",
          "name": "stderr",
          "text": [
            "100%|██████████| 898/898 [01:23<00:00, 10.69it/s]\n"
          ]
        },
        {
          "output_type": "execute_result",
          "data": {
            "text/plain": [
              "(898, 96, 96, 4)"
            ]
          },
          "metadata": {},
          "execution_count": 72
        }
      ]
    },
    {
      "cell_type": "code",
      "metadata": {
        "id": "oE7ydFa2KuWx"
      },
      "source": [
        "np.save('sprite_img.npy', sprite_img)"
      ],
      "execution_count": 74,
      "outputs": []
    }
  ]
}