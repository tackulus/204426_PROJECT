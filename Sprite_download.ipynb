{
  "nbformat": 4,
  "nbformat_minor": 0,
  "metadata": {
    "colab": {
      "name": "Sprite_download.ipynb",
      "provenance": [],
      "collapsed_sections": [],
      "authorship_tag": "ABX9TyM9Aj6CxxYgj5MyZONebIbc",
      "include_colab_link": true
    },
    "kernelspec": {
      "name": "python3",
      "display_name": "Python 3"
    },
    "language_info": {
      "name": "python"
    }
  },
  "cells": [
    {
      "cell_type": "markdown",
      "metadata": {
        "id": "view-in-github",
        "colab_type": "text"
      },
      "source": [
        "<a href=\"https://colab.research.google.com/github/tackulus/204426_PROJECT/blob/main/Sprite_download.ipynb\" target=\"_parent\"><img src=\"https://colab.research.google.com/assets/colab-badge.svg\" alt=\"Open In Colab\"/></a>"
      ]
    },
    {
      "cell_type": "code",
      "metadata": {
        "colab": {
          "base_uri": "https://localhost:8080/"
        },
        "id": "ja7lhxTR8VCG",
        "outputId": "75b21b0a-ddd3-4e18-e322-20bd579c02ad"
      },
      "source": [
        "!pip install pokebase"
      ],
      "execution_count": null,
      "outputs": [
        {
          "output_type": "stream",
          "name": "stdout",
          "text": [
            "Requirement already satisfied: pokebase in /usr/local/lib/python3.7/dist-packages (1.3.0)\n",
            "Requirement already satisfied: requests in /usr/local/lib/python3.7/dist-packages (from pokebase) (2.23.0)\n",
            "Requirement already satisfied: certifi>=2017.4.17 in /usr/local/lib/python3.7/dist-packages (from requests->pokebase) (2021.5.30)\n",
            "Requirement already satisfied: chardet<4,>=3.0.2 in /usr/local/lib/python3.7/dist-packages (from requests->pokebase) (3.0.4)\n",
            "Requirement already satisfied: idna<3,>=2.5 in /usr/local/lib/python3.7/dist-packages (from requests->pokebase) (2.10)\n",
            "Requirement already satisfied: urllib3!=1.25.0,!=1.25.1,<1.26,>=1.21.1 in /usr/local/lib/python3.7/dist-packages (from requests->pokebase) (1.24.3)\n"
          ]
        }
      ]
    },
    {
      "cell_type": "code",
      "metadata": {
        "id": "wsMOyNguvE1-"
      },
      "source": [
        "import io\n",
        "import numpy as np\n",
        "import pandas as pd\n",
        "import matplotlib.pyplot as plt\n",
        "import pokebase as pb\n",
        "from tqdm import tqdm"
      ],
      "execution_count": null,
      "outputs": []
    },
    {
      "cell_type": "code",
      "metadata": {
        "colab": {
          "base_uri": "https://localhost:8080/"
        },
        "id": "o8YwKLVVvlxR",
        "outputId": "3dde46bd-3433-4260-81fb-149a5eaa9abc"
      },
      "source": [
        "sprite_rgba = []\n",
        "for i in tqdm(range(1,802)):\n",
        "    source = pb.SpriteResource('pokemon', i, official_artwork=True)\n",
        "    binary = source.img_data\n",
        "    img = plt.imread(io.BytesIO(binary))\n",
        "    img = np.asarray(img)\n",
        "    sprite_rgba.append(img)\n",
        "\n",
        "sprite_rgba = np.asarray(sprite_rgba)\n",
        "sprite_rgba.shape # pokedex n == index n-1"
      ],
      "execution_count": 48,
      "outputs": [
        {
          "output_type": "stream",
          "name": "stderr",
          "text": [
            "100%|██████████| 801/801 [00:00<00:00, 1686.91it/s]\n"
          ]
        },
        {
          "output_type": "execute_result",
          "data": {
            "text/plain": [
              "(801, 96, 96, 4)"
            ]
          },
          "metadata": {},
          "execution_count": 48
        }
      ]
    },
    {
      "cell_type": "code",
      "metadata": {
        "colab": {
          "base_uri": "https://localhost:8080/"
        },
        "id": "1W-ng28V84I8",
        "outputId": "c6563116-9ed0-4977-8dde-4308c678c2a8"
      },
      "source": [
        "from skimage.color import rgba2rgb\n",
        "\n",
        "sprite_rgb = [rgba2rgb(img_rgba) for img_rgba in tqdm(sprite_rgba)]\n",
        "sprite_rgb = np.asarray(sprite_rgb)\n",
        "sprite_rgb.shape # pokedex n == index n-1"
      ],
      "execution_count": 49,
      "outputs": [
        {
          "output_type": "stream",
          "name": "stderr",
          "text": [
            "100%|██████████| 801/801 [00:00<00:00, 4095.43it/s]\n"
          ]
        },
        {
          "output_type": "execute_result",
          "data": {
            "text/plain": [
              "(801, 96, 96, 3)"
            ]
          },
          "metadata": {},
          "execution_count": 49
        }
      ]
    },
    {
      "cell_type": "markdown",
      "metadata": {
        "id": "EeEilFpyZrHa"
      },
      "source": [
        "# Feature Extraction by Histogram of Orientation Gradient (HOG)\n",
        "> https://www.analyticsvidhya.com/blog/2019/09/feature-engineering-images-introduction-hog-feature-descriptor/"
      ]
    },
    {
      "cell_type": "code",
      "metadata": {
        "id": "oE7ydFa2KuWx",
        "colab": {
          "base_uri": "https://localhost:8080/"
        },
        "outputId": "7b4c6079-24a1-4604-9213-6e67dda83104"
      },
      "source": [
        "from skimage.feature import hog\n",
        "\n",
        "def feature_extraction_hog(img):\n",
        "    fd, hog_image = hog(img, orientations=9, pixels_per_cell=(12,12), \n",
        "                    cells_per_block=(2, 2), visualize=True, multichannel=True)\n",
        "    return fd\n",
        "\n",
        "sprite_hog = [feature_extraction_hog(img_rgb) for img_rgb in tqdm(sprite_rgb)]\n",
        "sprite_hog = np.asarray(sprite_hog)\n",
        "sprite_hog.shape # pokedex n == index n-1"
      ],
      "execution_count": 54,
      "outputs": [
        {
          "output_type": "stream",
          "name": "stderr",
          "text": [
            "100%|██████████| 801/801 [00:10<00:00, 73.77it/s]\n"
          ]
        },
        {
          "output_type": "execute_result",
          "data": {
            "text/plain": [
              "(801, 1764)"
            ]
          },
          "metadata": {},
          "execution_count": 54
        }
      ]
    },
    {
      "cell_type": "markdown",
      "metadata": {
        "id": "F9v9sf7haAS4"
      },
      "source": [
        "# Feature Extraction by Color Histogram\n",
        "> https://www.etutorialspoint.com/index.php/310-python-opencv-histograms-of-color-image"
      ]
    },
    {
      "cell_type": "code",
      "metadata": {
        "colab": {
          "base_uri": "https://localhost:8080/"
        },
        "id": "GgYpvkr6EH8R",
        "outputId": "697b9cd5-34fa-47f4-cb37-b20271fc4508"
      },
      "source": [
        "import cv2 as cv\n",
        "\n",
        "def color_histogram(img_rgba, bins=32):\n",
        "    img = (img_rgba * 255).astype('uint8')\n",
        "    mask = img[...,3]\n",
        "    hist1 = cv.calcHist([img],[0],mask,[bins],[0,256])\n",
        "    hist2 = cv.calcHist([img],[1],mask,[bins],[0,256])\n",
        "    hist3 = cv.calcHist([img],[2],mask,[bins],[0,256])\n",
        "\n",
        "    return np.r_[hist1, hist2, hist3].flatten() / hist1.sum()\n",
        "    \n",
        "sprite_hist = [color_histogram(img_rgba) for img_rgba in tqdm(sprite_rgba)]\n",
        "sprite_hist = np.asarray(sprite_hist)\n",
        "sprite_hist.shape # pokedex n == index n-1"
      ],
      "execution_count": 66,
      "outputs": [
        {
          "output_type": "stream",
          "name": "stderr",
          "text": [
            "100%|██████████| 801/801 [00:00<00:00, 5701.49it/s]\n"
          ]
        },
        {
          "output_type": "execute_result",
          "data": {
            "text/plain": [
              "(801, 96)"
            ]
          },
          "metadata": {},
          "execution_count": 66
        }
      ]
    },
    {
      "cell_type": "code",
      "metadata": {
        "colab": {
          "base_uri": "https://localhost:8080/"
        },
        "id": "jyVbx8FQadGx",
        "outputId": "6bece13e-b1b7-4fee-dec0-f9ab3e497739"
      },
      "source": [
        "feature_vectors = np.c_[sprite_hog, sprite_hist]\n",
        "feature_vectors.shape"
      ],
      "execution_count": 67,
      "outputs": [
        {
          "output_type": "execute_result",
          "data": {
            "text/plain": [
              "(801, 1860)"
            ]
          },
          "metadata": {},
          "execution_count": 67
        }
      ]
    },
    {
      "cell_type": "code",
      "metadata": {
        "id": "9LjxQCO6a8Gy"
      },
      "source": [
        "import pandas as pd\n",
        "\n",
        "df = pd.DataFrame(feature_vectors)\n",
        "df.to_csv('feature_vectors.csv', index=False)"
      ],
      "execution_count": 71,
      "outputs": []
    }
  ]
}